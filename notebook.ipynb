{
  "cells": [
    {
      "cell_type": "markdown",
      "metadata": {
        "id": "1lKIgEvY1lSj"
      },
      "source": [
        "# Colab setup\n",
        "Clone the repo into our colab notebook"
      ]
    },
    {
      "cell_type": "code",
      "execution_count": null,
      "metadata": {
        "id": "P3k8Udxn1lSm"
      },
      "outputs": [],
      "source": [
        "!git clone https://github.com/pmozil/EDA_team_21.git\n",
        "%cd EDA_team_21"
      ]
    },
    {
      "cell_type": "markdown",
      "metadata": {
        "id": "ls2z4Id11lSp"
      },
      "source": [
        "# Twitch streamer popularity by language\n",
        "We obviously begin by importing pandas/reading the dataset"
      ]
    },
    {
      "cell_type": "code",
      "execution_count": null,
      "metadata": {
        "id": "arc78roh1lSr"
      },
      "outputs": [],
      "source": [
        "import pandas as pd\n",
        "import seaborn as sns\n",
        "import matplotlib\n",
        "import matplotlib.pyplot as plt\n",
        "import numpy as np\n",
        "\n",
        "df = pd.read_csv('data.csv')\n",
        "df.rename(columns = {'Watch time(Minutes)': 'Wtime'}, inplace = True)"
      ]
    },
    {
      "cell_type": "markdown",
      "source": [],
      "metadata": {
        "id": "8STOo9gN4ukz"
      }
    },
    {
      "cell_type": "markdown",
      "source": [
        "## Relation between follower count and watch time\n",
        "The relation may be linear, as it followers quite obviously relate to view time\n",
        "\n",
        "*The relation between the verage viewer count and the view time should be linear*"
      ],
      "metadata": {
        "id": "H6mF9lki4v2P"
      }
    },
    {
      "cell_type": "code",
      "source": [
        "x_axis = df[\"Followers\"]\n",
        "y_axis = df[\"Wtime\"]\n",
        "reg = np.polyfit(x_axis, y_axis, 1)\n",
        "linear_func = np.poly1d(reg)"
      ],
      "metadata": {
        "id": "Mz3iXMB65J-c"
      },
      "execution_count": null,
      "outputs": []
    },
    {
      "cell_type": "markdown",
      "source": [
        "Let's do a quadratic function while we're at it"
      ],
      "metadata": {
        "id": "HuNULUZiATaF"
      }
    },
    {
      "cell_type": "code",
      "source": [
        "coeffs = np.polyfit(x_axis, y_axis, 2)\n",
        "# create a quadratic function for the coefficients\n",
        "def quadratic_func(x):\n",
        "  return x**2*coeffs[0] + x*coeffs[1] + coeffs[2]"
      ],
      "metadata": {
        "id": "FqkVbHU37RCD"
      },
      "execution_count": null,
      "outputs": []
    },
    {
      "cell_type": "code",
      "source": [
        "plt.scatter(x_axis, y_axis)\n",
        "plt.plot(x_axis, linear_func(x_axis), 'rd')\n",
        "plt.plot(x_axis, quadratic_func(x_axis), 'yo')\n",
        "plt.xlabel(\"Followers\")\n",
        "plt.ylabel(\"Watch time\")\n",
        "# Set logarithmic scale, too many dots at the start\n",
        "plt.xscale('log')\n",
        "plt.show()"
      ],
      "metadata": {
        "colab": {
          "base_uri": "https://localhost:8080/",
          "height": 294
        },
        "id": "A_mvz-uD1vgO",
        "outputId": "39c78fc5-6dde-47bc-a93b-e4af532ef447"
      },
      "execution_count": null,
      "outputs": [
        {
          "output_type": "display_data",
          "data": {
            "text/plain": [
              "<Figure size 432x288 with 1 Axes>"
            ],
            "image/png": "[encoded data removed]"
          },
          "metadata": {
            "needs_background": "light"
          }
        }
      ]
    },
    {
      "cell_type": "markdown",
      "source": [
        "For small follower counts, the function is rather precise. For obvious reasons, we are interested in small follower counts.\n",
        "\n",
        "**Note that the follower count is small only relatively. It is still very big, as we only have the top 1000 streamers**\n",
        "\n",
        "It is obvious that the functions are very imprecise, as they are crude approximations, but it is fine in our case.\n",
        "\n",
        "Also, note the anomalies on the right side of the graph: there are streamers, whose view time if much bigger than it should be, if looking at their follower count. It is because many popular streamers have much more active viewers that subscribers. \n",
        "\n",
        "For this reason, we shall also explore th relation between the viewer and follower count.\n",
        "\n",
        "## How does the eviewer count relate to the follower count? "
      ],
      "metadata": {
        "id": "DHdhAwhzAttz"
      }
    },
    {
      "cell_type": "code",
      "source": [
        "x_axis = df[\"Followers\"]\n",
        "y_axis = df[\"Average viewers\"]\n",
        "reg = np.polyfit(x_axis, y_axis, 1)\n",
        "linear_func = np.poly1d(reg)"
      ],
      "metadata": {
        "id": "ekr8hUdgBxCO"
      },
      "execution_count": null,
      "outputs": []
    },
    {
      "cell_type": "code",
      "source": [
        "coeffs = np.polyfit(x_axis, y_axis, 2)\n",
        "# create a quadratic function for the coefficients\n",
        "def quadratic_func(x):\n",
        "  return x**2*coeffs[0] + x*coeffs[1] + coeffs[2]"
      ],
      "metadata": {
        "id": "1Qdb-HMsBxCP"
      },
      "execution_count": null,
      "outputs": []
    },
    {
      "cell_type": "code",
      "source": [
        "plt.scatter(x_axis, y_axis)\n",
        "plt.plot(x_axis, linear_func(x_axis), 'rd')\n",
        "plt.plot(x_axis, quadratic_func(x_axis), 'yo')\n",
        "plt.xlabel(\"Followers\")\n",
        "plt.ylabel(\"Watch time\")\n",
        "# Set logarithmic scale, too many dots at the start\n",
        "plt.xscale('log')\n",
        "plt.show()"
      ],
      "metadata": {
        "colab": {
          "base_uri": "https://localhost:8080/",
          "height": 283
        },
        "outputId": "a4058f8d-c054-47c3-fb4a-5f603f1e96c0",
        "id": "lv3qbtFUB2cg"
      },
      "execution_count": null,
      "outputs": [
        {
          "output_type": "display_data",
          "data": {
            "text/plain": [
              "<Figure size 432x288 with 1 Axes>"
            ],
            "image/png": "[encoded data removed]"
          },
          "metadata": {
            "needs_background": "light"
          }
        }
      ]
    },
    {
      "cell_type": "markdown",
      "source": [
        "The anomalies here are much better visible than in the case of followers/wiew time, as there certainly are a couple streamers who are very popular with viewers, but not subscribers (and that is the most popular ones)\n",
        "\n",
        "Since we've already touche the viewer count/view time relation, we shall plot it too"
      ],
      "metadata": {
        "id": "rx9GsjhACFXz"
      }
    },
    {
      "cell_type": "code",
      "execution_count": null,
      "metadata": {
        "id": "cxsXA2Qo1lSu"
      },
      "outputs": [],
      "source": [
        "sns.catplot(data=df, x=\"Followers\", y=\"Wtime\", kind=\"bar\")"
      ]
    },
    {
      "cell_type": "code",
      "execution_count": null,
      "metadata": {
        "id": "en4aaMru1lSw"
      },
      "outputs": [],
      "source": [
        "sns.catplot(data=df, x=\"Followers\", y=\"Language\", kind=\"bar\")"
      ]
    }
  ],
  "metadata": {
    "kernelspec": {
      "display_name": "Python 3.10.8 64-bit",
      "language": "python",
      "name": "python3"
    },
    "language_info": {
      "codemirror_mode": {
        "name": "ipython",
        "version": 3
      },
      "file_extension": ".py",
      "mimetype": "text/x-python",
      "name": "python",
      "nbconvert_exporter": "python",
      "pygments_lexer": "ipython3",
      "version": "3.10.8"
    },
    "orig_nbformat": 4,
    "vscode": {
      "interpreter": {
        "hash": "b0fa6594d8f4cbf19f97940f81e996739fb7646882a419484c72d19e05852a7e"
      }
    },
    "colab": {
      "provenance": []
    }
  },
  "nbformat": 4,
  "nbformat_minor": 0
}