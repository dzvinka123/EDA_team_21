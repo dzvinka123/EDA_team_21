{
  "cells": [
    {
      "cell_type": "markdown",
      "metadata": {
        "id": "1lKIgEvY1lSj"
      },
      "source": [
        "# Colab setup\n",
        "Clone the repo into our colab notebook\n",
        "\n",
        "[Here's the link for the original dataset](https://www.kaggle.com/datasets/aayushmishra1512/twitchdata)"
      ]
    },
    {
      "cell_type": "code",
      "execution_count": 1,
      "metadata": {
        "id": "P3k8Udxn1lSm",
        "outputId": "1be66c51-1570-4511-e0ce-87c0d1262f54",
        "colab": {
          "base_uri": "https://localhost:8080/"
        }
      },
      "outputs": [
        {
          "output_type": "stream",
          "name": "stdout",
          "text": [
            "Cloning into 'EDA_team_21'...\n",
            "remote: Enumerating objects: 41, done.\u001b[K\n",
            "remote: Counting objects: 100% (41/41), done.\u001b[K\n",
            "remote: Compressing objects: 100% (28/28), done.\u001b[K\n",
            "remote: Total 41 (delta 16), reused 35 (delta 10), pack-reused 0\u001b[K\n",
            "Unpacking objects: 100% (41/41), done.\n",
            "/content/EDA_team_21\n"
          ]
        }
      ],
      "source": [
        "!git clone https://github.com/pmozil/EDA_team_21.git\n",
        "%cd EDA_team_21"
      ]
    },
    {
      "cell_type": "markdown",
      "metadata": {
        "id": "ls2z4Id11lSp"
      },
      "source": [
        "# Twitch streamer popularity by language\n",
        "We obviously begin by importing pandas/reading the dataset"
      ]
    },
    {
      "cell_type": "code",
      "execution_count": 2,
      "metadata": {
        "id": "arc78roh1lSr"
      },
      "outputs": [],
      "source": [
        "import pandas as pd\n",
        "import seaborn as sns\n",
        "import matplotlib\n",
        "import matplotlib.pyplot as plt\n",
        "import numpy as np\n",
        "\n",
        "df = pd.read_csv('data.csv')\n",
        "df.rename(columns = {'Watch time(Minutes)': 'Wtime'}, inplace = True)"
      ]
    },
    {
      "cell_type": "markdown",
      "source": [
        "## Relation between follower count and watch time\n",
        "The relation may be linear, as it followers quite obviously relate to view time\n",
        "\n",
        "*The relation between the verage viewer count and the view time should be linear*"
      ],
      "metadata": {
        "id": "H6mF9lki4v2P"
      }
    },
    {
      "cell_type": "code",
      "source": [
        "x_axis = df[\"Followers\"]\n",
        "y_axis = df[\"Wtime\"]\n",
        "reg = np.polyfit(x_axis, y_axis, 1)\n",
        "linear_func = np.poly1d(reg)"
      ],
      "metadata": {
        "id": "Mz3iXMB65J-c"
      },
      "execution_count": null,
      "outputs": []
    },
    {
      "cell_type": "markdown",
      "source": [
        "Let's do a quadratic function while we're at it"
      ],
      "metadata": {
        "id": "HuNULUZiATaF"
      }
    },
    {
      "cell_type": "code",
      "source": [
        "coeffs = np.polyfit(x_axis, y_axis, 2)\n",
        "# create a quadratic function for the coefficients\n",
        "def quadratic_func(x):\n",
        "  return x**2*coeffs[0] + x*coeffs[1] + coeffs[2]"
      ],
      "metadata": {
        "id": "FqkVbHU37RCD"
      },
      "execution_count": null,
      "outputs": []
    },
    {
      "cell_type": "code",
      "source": [
        "plots, axis = plt.subplots(3, 1)\n",
        "axis[0].plot(x_axis, linear_func(x_axis), 'rd')\n",
        "axis[0].scatter(x_axis, y_axis)\n",
        "axis[0].set_xscale(\"log\")\n",
        "axis[0].set_title(\"Linear approximation\")\n",
        "axis[1].plot(x_axis, quadratic_func(x_axis), 'yo')\n",
        "axis[1].scatter(x_axis, y_axis)\n",
        "axis[1].set_title(\"Quadratic approximation\")\n",
        "axis[1].set_xscale(\"log\")\n",
        "axis[2].scatter(x_axis, y_axis)\n",
        "axis[2].set_xscale(\"log\")\n",
        "axis[2].set_title(\"Actual relation\")\n",
        "\n",
        "plt.tight_layout()"
      ],
      "metadata": {
        "colab": {
          "base_uri": "https://localhost:8080/",
          "height": 297
        },
        "id": "A_mvz-uD1vgO",
        "outputId": "8e9af5d5-2e75-4321-e316-d5a4b2f99263"
      },
      "execution_count": null,
      "outputs": [
        {
          "output_type": "display_data",
          "data": {
            "text/plain": [
              "<Figure size 432x288 with 3 Axes>"
            ],
            "image/png": "[encoded data removed]"
          },
          "metadata": {
            "needs_background": "light"
          }
        }
      ]
    },
    {
      "cell_type": "markdown",
      "source": [
        "For small follower counts, the function is rather precise. For obvious reasons, we are interested in small follower counts.\n",
        "\n",
        "*Note that the follower count is small only relatively. It is still very big, as we only have the top 1000 streamers*\n",
        "\n",
        "It is obvious that the functions are very imprecise, as they are crude approximations. **The real predictor would probabaly be a function of about all the variables in the dataset, but that is beyond what we are suposed to do.**\n",
        "\n",
        "Also, note the anomalies on the right side of the graph: there are streamers, whose view time if much bigger than it should be, if looking at their follower count. It is because many popular streamers have much more active viewers that subscribers.\n",
        "\n",
        "For this reason, we shall also explore th relation between the viewer and follower count.\n",
        "\n",
        "## How does the eviewer count relate to the follower count? "
      ],
      "metadata": {
        "id": "DHdhAwhzAttz"
      }
    },
    {
      "cell_type": "code",
      "source": [
        "x_axis = df[\"Followers\"]\n",
        "y_axis = df[\"Average viewers\"]\n",
        "reg = np.polyfit(x_axis, y_axis, 1)\n",
        "linear_func = np.poly1d(reg)"
      ],
      "metadata": {
        "id": "ekr8hUdgBxCO"
      },
      "execution_count": null,
      "outputs": []
    },
    {
      "cell_type": "code",
      "source": [
        "coeffs = np.polyfit(x_axis, y_axis, 2)\n",
        "# create a quadratic function for the coefficients\n",
        "def quadratic_func(x):\n",
        "  return x**2*coeffs[0] + x*coeffs[1] + coeffs[0]"
      ],
      "metadata": {
        "id": "1Qdb-HMsBxCP"
      },
      "execution_count": null,
      "outputs": []
    },
    {
      "cell_type": "code",
      "source": [
        "plots, axis = plt.subplots(3, 1)\n",
        "axis[0].plot(x_axis, linear_func(x_axis), 'rd')\n",
        "axis[0].scatter(x_axis, y_axis)\n",
        "axis[0].set_xscale(\"log\")\n",
        "axis[0].set_title(\"Linear approximation\")\n",
        "axis[1].plot(x_axis, quadratic_func(x_axis), 'yo')\n",
        "axis[1].scatter(x_axis, y_axis)\n",
        "axis[1].set_title(\"Quadratic approximation\")\n",
        "axis[1].set_xscale(\"log\")\n",
        "axis[2].scatter(x_axis, y_axis)\n",
        "axis[2].set_xscale(\"log\")\n",
        "axis[2].set_title(\"Actual relation\")\n",
        "\n",
        "# Set logarithmic scale, too many dots at the start\n",
        "# plt.xscale('log')\n",
        "plt.tight_layout()"
      ],
      "metadata": {
        "colab": {
          "base_uri": "https://localhost:8080/",
          "height": 297
        },
        "outputId": "d90cfb61-cd3d-482e-bb1e-6df2e39a57e2",
        "id": "lv3qbtFUB2cg"
      },
      "execution_count": null,
      "outputs": [
        {
          "output_type": "display_data",
          "data": {
            "text/plain": [
              "<Figure size 432x288 with 3 Axes>"
            ],
            "image/png": "[encoded data removed]"
          },
          "metadata": {
            "needs_background": "light"
          }
        }
      ]
    },
    {
      "cell_type": "markdown",
      "source": [
        "The anomalies here are much better visible than in the case of followers/wiew time, as there certainly are a couple streamers who are very popular with viewers, but not subscribers (and that is the most popular ones)\n",
        "\n",
        "Here, we see that the relation between the viewer count and followers if linear, barring the approximation error.\n",
        "\n",
        "Also, here the relation is more or less linear, say for a few anomalies"
      ],
      "metadata": {
        "id": "rx9GsjhACFXz"
      }
    },
    {
      "cell_type": "markdown",
      "source": [
        "# Mature vs immature language streamer partnerships\n",
        "\n",
        "This too, seems like an interesting topic. Let's plot it!"
      ],
      "metadata": {
        "id": "X5hXLjr9zh80"
      }
    },
    {
      "cell_type": "code",
      "source": [
        "sns.countplot(x=\"Mature\", hue =\"Partnered\", data=df)"
      ],
      "metadata": {
        "id": "FTP0-AUNzO8U",
        "outputId": "ddf3b755-9940-42a8-b049-798b4a1a3c8c",
        "colab": {
          "base_uri": "https://localhost:8080/",
          "height": 296
        }
      },
      "execution_count": 3,
      "outputs": [
        {
          "output_type": "execute_result",
          "data": {
            "text/plain": [
              "<matplotlib.axes._subplots.AxesSubplot at 0x7f03fd89bb80>"
            ]
          },
          "metadata": {},
          "execution_count": 3
        },
        {
          "output_type": "display_data",
          "data": {
            "text/plain": [
              "<Figure size 432x288 with 1 Axes>"
            ],
            "image/png": "[encoded data removed]"
          },
          "metadata": {
            "needs_background": "light"
          }
        }
      ]
    },
    {
      "cell_type": "markdown",
      "source": [
        "Oh, right. It's the top 1000 streamers, of course most of them would be partnered. Let's look at the numbers then. Maybe the relation of partnered to unpartnered is much smaller with the streamers, who don't use mature language?"
      ],
      "metadata": {
        "id": "ldOHM2Kcztto"
      }
    },
    {
      "cell_type": "code",
      "source": [
        "print(len(df[df[\"Mature\"] & df[\"Partnered\"]])/len(df[df[\"Mature\"]]))\n",
        "print(len(df[~df[\"Mature\"] & df[\"Partnered\"]])/len(df[~df[\"Mature\"]]))"
      ],
      "metadata": {
        "id": "BW_cU-yL0F0c",
        "outputId": "a447d1b5-3eb7-4c95-e22f-59937bb0b223",
        "colab": {
          "base_uri": "https://localhost:8080/"
        }
      },
      "execution_count": 7,
      "outputs": [
        {
          "output_type": "stream",
          "name": "stdout",
          "text": [
            "0.9782608695652174\n",
            "0.977922077922078\n"
          ]
        }
      ]
    },
    {
      "cell_type": "markdown",
      "source": [
        "Nope, not even that! See, if you're popular, it doesn't matter if you swear!"
      ],
      "metadata": {
        "id": "stIau8dK0pf0"
      }
    }
  ],
  "metadata": {
    "kernelspec": {
      "display_name": "Python 3.10.8 64-bit",
      "language": "python",
      "name": "python3"
    },
    "language_info": {
      "codemirror_mode": {
        "name": "ipython",
        "version": 3
      },
      "file_extension": ".py",
      "mimetype": "text/x-python",
      "name": "python",
      "nbconvert_exporter": "python",
      "pygments_lexer": "ipython3",
      "version": "3.10.8"
    },
    "orig_nbformat": 4,
    "vscode": {
      "interpreter": {
        "hash": "b0fa6594d8f4cbf19f97940f81e996739fb7646882a419484c72d19e05852a7e"
      }
    },
    "colab": {
      "provenance": []
    }
  },
  "nbformat": 4,
  "nbformat_minor": 0
}